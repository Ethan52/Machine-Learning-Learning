{
 "cells": [
  {
   "cell_type": "code",
   "execution_count": 1,
   "id": "ae78ed2a",
   "metadata": {},
   "outputs": [
    {
     "name": "stdout",
     "output_type": "stream",
     "text": [
      "Python Version:\n",
      " 3.10.9 | packaged by Anaconda, Inc. | (main, Mar  1 2023, 18:18:15) [MSC v.1916 64 bit (AMD64)]\n",
      "\n",
      "Anaconda Version: \n",
      " # packages in environment at C:\\Users\\shafeek\\anaconda3:\n",
      "#\n",
      "# Name                    Version                   Build  Channel\n",
      "\n"
     ]
    }
   ],
   "source": [
    "import sys\n",
    "print(\"Python Version:\\n\", sys.version)\n",
    "\n",
    "import os\n",
    "result = os.popen(\"conda list anaconda$\").read()\n",
    "print(\"\\nAnaconda Version: \\n\", result)"
   ]
  }
 ],
 "metadata": {
  "kernelspec": {
   "display_name": "Python 3 (ipykernel)",
   "language": "python",
   "name": "python3"
  },
  "language_info": {
   "codemirror_mode": {
    "name": "ipython",
    "version": 3
   },
   "file_extension": ".py",
   "mimetype": "text/x-python",
   "name": "python",
   "nbconvert_exporter": "python",
   "pygments_lexer": "ipython3",
   "version": "3.10.9"
  }
 },
 "nbformat": 4,
 "nbformat_minor": 5
}
